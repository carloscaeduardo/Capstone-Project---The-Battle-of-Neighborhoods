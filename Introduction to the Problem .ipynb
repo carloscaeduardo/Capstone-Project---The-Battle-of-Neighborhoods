{
 "cells": [
  {
   "cell_type": "markdown",
   "metadata": {},
   "source": [
    "<h1>Peer-graded Assignment: Capstone Project - The Battle of Neighborhoods (Week 1)</h1> \n",
    "<h2>Problem Description:</h2>\n",
    "<p>International students will be moving to study at the Niagara College, Welland, Ontario - CA.\n",
    "they are searching for one bedroom Apartments in regions that have some specific amenities and points of importance as shown below: \n",
    "    <ol>\n",
    "        <li>Grocery stores;</li>\n",
    "        <li>Supermarkets;</li>\n",
    "        <li>Gyms;</li>\n",
    "        <li>Drugstores;</li>\n",
    "        <li>Hospitals;</li>\n",
    "        <li>Candy Stores;</li>\n",
    "    </ol>\n",
    "</p>\n",
    "<p>The objective is to identify the best regions within a radius of 10km of the college location that satisfy the requirements.</p>\n",
    "\n",
    "<p>A web scraper will be created specifically for this project, by retrieving the apartment location information (Address) from the website Kijiji.ca, using the following information for the search:</p>\n",
    "   \n",
    "   <ul>\n",
    "    <li>Long term rental;</li>\n",
    "    <li>1 bedroom apartments or studio apartments;</li>\n",
    "    <li>1 bathroom;</li>\n",
    "    <li>Welland, Ontario - 50km;</li>\n",
    "    <li> $0 - $1000 CAD; </li>\n",
    "    <li> Bedrooms: 1 or Bachelor/Studio;</li>\n",
    "    <li>Batrooms: 1;</li>\n",
    "    <li>Price:lowest first</li>\n",
    "   </ul>\n",
    "\n",
    "<h2> After scraping the apartments location information, we will use the Foursquare API to discover business from the list within 500 meters from the apartments. </h2>\n"
   ]
  },
  {
   "cell_type": "markdown",
   "metadata": {},
   "source": [
    "<h2>Map of the Niagara College region:</h2>\n",
    "<p>for information, here's the Map of the city of Welland, in Ontario, with a 10km radius to better give perspective of the area.</p>"
   ]
  },
  {
   "cell_type": "code",
   "execution_count": 24,
   "metadata": {},
   "outputs": [],
   "source": [
    "import folium\n",
    "from geopy.geocoders import Nominatim\n",
    "from IPython.display import HTML\n",
    "import html"
   ]
  },
  {
   "cell_type": "code",
   "execution_count": 25,
   "metadata": {},
   "outputs": [
    {
     "data": {
      "text/html": [
       "<script>\n",
       "code_show=true; \n",
       "function code_toggle() {\n",
       " if (code_show){\n",
       " $('div.input').hide();\n",
       " } else {\n",
       " $('div.input').show();\n",
       " }\n",
       " code_show = !code_show\n",
       "} \n",
       "$( document ).ready(code_toggle);\n",
       "</script>The raw code for this IPython notebook is by default hidden for easier reading.\n",
       "To toggle on/off the raw code, click <a href=\"javascript:code_toggle()\">here</a>."
      ],
      "text/plain": [
       "<IPython.core.display.HTML object>"
      ]
     },
     "execution_count": 25,
     "metadata": {},
     "output_type": "execute_result"
    }
   ],
   "source": [
    "HTML('''<script>\n",
    "code_show=true; \n",
    "function code_toggle() {\n",
    " if (code_show){\n",
    " $('div.input').hide();\n",
    " } else {\n",
    " $('div.input').show();\n",
    " }\n",
    " code_show = !code_show\n",
    "} \n",
    "$( document ).ready(code_toggle);\n",
    "</script>The raw code for this IPython notebook is by default hidden for easier reading.\n",
    "To toggle on/off the raw code, click <a href=\"javascript:code_toggle()\">here</a>.''')\n"
   ]
  },
  {
   "cell_type": "code",
   "execution_count": 26,
   "metadata": {},
   "outputs": [],
   "source": [
    "geolocator = Nominatim(user_agent=\"dnipro\",timeout=10)\n",
    "college_location = geolocator.geocode(\"100 Niagara College Boulevard,Welland, Ontario L3C 7L3, Canada\")\n"
   ]
  },
  {
   "cell_type": "code",
   "execution_count": 27,
   "metadata": {},
   "outputs": [
    {
     "data": {
      "text/html": [
       "<div style=\"width:100%;\"><div style=\"position:relative;width:100%;height:0;padding-bottom:60%;\"><span style=\"color:#565656\">Make this Notebook Trusted to load map: File -> Trust Notebook</span><iframe src=\"about:blank\" style=\"position:absolute;width:100%;height:100%;left:0;top:0;border:none !important;\" data-html=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 onload=\"this.contentDocument.open();this.contentDocument.write(atob(this.getAttribute('data-html')));this.contentDocument.close();\" allowfullscreen webkitallowfullscreen mozallowfullscreen></iframe></div></div>"
      ],
      "text/plain": [
       "<folium.folium.Map at 0x7f390f495e50>"
      ]
     },
     "execution_count": 27,
     "metadata": {},
     "output_type": "execute_result"
    }
   ],
   "source": [
    "# create map of Welland using latitude and longitude values\n",
    "map_welland = folium.Map(location=[college_location[-1][0], college_location[-1][1]], zoom_start=12)\n",
    "folium.Marker([college_location[-1][0], college_location[-1][1]],popup=html.escape(\"Welland College\")).add_to(map_welland)\n",
    "folium.Circle(\n",
    "    location=[college_location[-1][0], college_location[-1][1]],\n",
    "    radius=10000,\n",
    "    popup='College 10km radius',\n",
    "    color='#3186cc',\n",
    "    fill=True,\n",
    "    fill_color='#3186cc'\n",
    ").add_to(map_welland)\n",
    "\n",
    "map_london"
   ]
  },
  {
   "cell_type": "code",
   "execution_count": null,
   "metadata": {},
   "outputs": [],
   "source": []
  }
 ],
 "metadata": {
  "kernelspec": {
   "display_name": "Python 3",
   "language": "python",
   "name": "python3"
  },
  "language_info": {
   "codemirror_mode": {
    "name": "ipython",
    "version": 3
   },
   "file_extension": ".py",
   "mimetype": "text/x-python",
   "name": "python",
   "nbconvert_exporter": "python",
   "pygments_lexer": "ipython3",
   "version": "3.7.6"
  }
 },
 "nbformat": 4,
 "nbformat_minor": 4
}
