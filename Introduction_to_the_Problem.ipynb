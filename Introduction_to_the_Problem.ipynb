{
 "cells": [
  {
   "cell_type": "markdown",
   "metadata": {},
   "source": [
    "<h1>Peer-graded Assignment: Capstone Project - The Battle of Neighborhoods (Week 1)</h1> \n",
    "<h2>Problem Description:</h2>\n",
    "<p>International students will be moving to study at the NBCC, Fredericton, New Brunswick - CA.\n",
    "they are searching for one or two bedroom Apartments in regions that have some specific venus and points of interest as shown below: \n",
    "    <ol>\n",
    "        <li>Grocery stores;</li>\n",
    "        <li>Supermarkets;</li>\n",
    "        <li>Gyms;</li>\n",
    "        <li>Drugstores;</li>\n",
    "        <li>Hospitals;</li>\n",
    "        <li>Candy Stores;</li>\n",
    "        <li>Veterinarians;</li>\n",
    "        <li>Clothes stores;</li>\n",
    "        <li>Miscelaneus shops;</li>\n",
    "    </ol>\n",
    "</p>\n",
    "<p>The objective is to identify the best regions within a radius of 10km of the college location, taking price into consideration, and that will satisfy most of the requirements.</p>\n",
    "\n",
    "<p>A web scraper will be created specifically for this project, by retrieving the apartment location information (Address) from the website Kijiji.ca, using the following information for the search:</p>\n",
    "   \n",
    "   <ul>\n",
    "    <li>Long term rental;</li>\n",
    "    <li>2, 1 bedroom apartments or studio apartments;</li>\n",
    "    <li>2 or 1 bathrooms;</li>\n",
    "    <li>Fredericton, New Brunswick - 10km;</li>\n",
    "    <li> $0 - $2000 CAD; </li>\n",
    "    <li> Bedrooms: 1, 2 or Bachelor/Studio;</li>\n",
    "    <li>Batrooms: Any;</li>\n",
    "    <li>Price:lowest first</li>\n",
    "   </ul>\n",
    "\n",
    "<h2> After scraping the apartments location information, we will use the Foursquare API to discover business from the list within 500 meters from the apartments. </h2>\n"
   ]
  },
  {
   "cell_type": "markdown",
   "metadata": {},
   "source": [
    "<h2>Map of NBCC College region:</h2>\n",
    "<p>for information, here's the Map of the city of Fredericton, in New Brunswick, with a 10km radius to better give perspective of the area.</p>"
   ]
  },
  {
   "cell_type": "code",
   "execution_count": 1,
   "metadata": {},
   "outputs": [],
   "source": [
    "import folium\n",
    "from geopy.geocoders import Nominatim\n",
    "from IPython.display import HTML\n",
    "import html"
   ]
  },
  {
   "cell_type": "code",
   "execution_count": 2,
   "metadata": {},
   "outputs": [
    {
     "data": {
      "text/html": [
       "<script>\n",
       "code_show=true; \n",
       "function code_toggle() {\n",
       " if (code_show){\n",
       " $('div.input').hide();\n",
       " } else {\n",
       " $('div.input').show();\n",
       " }\n",
       " code_show = !code_show\n",
       "} \n",
       "$( document ).ready(code_toggle);\n",
       "</script>The raw code for this IPython notebook is by default hidden for easier reading.\n",
       "To toggle on/off the raw code, click <a href=\"javascript:code_toggle()\">here</a>."
      ],
      "text/plain": [
       "<IPython.core.display.HTML object>"
      ]
     },
     "execution_count": 2,
     "metadata": {},
     "output_type": "execute_result"
    }
   ],
   "source": [
    "HTML('''<script>\n",
    "code_show=true; \n",
    "function code_toggle() {\n",
    " if (code_show){\n",
    " $('div.input').hide();\n",
    " } else {\n",
    " $('div.input').show();\n",
    " }\n",
    " code_show = !code_show\n",
    "} \n",
    "$( document ).ready(code_toggle);\n",
    "</script>The raw code for this IPython notebook is by default hidden for easier reading.\n",
    "To toggle on/off the raw code, click <a href=\"javascript:code_toggle()\">here</a>.''')\n"
   ]
  },
  {
   "cell_type": "code",
   "execution_count": 3,
   "metadata": {},
   "outputs": [
    {
     "name": "stdout",
     "output_type": "stream",
     "text": [
      "The college address is: Duffie Drive, College Hill, Skyline Acres, Fredericton, York County, New Brunswick, E3B 9W4, Canada\n"
     ]
    }
   ],
   "source": [
    "geolocator = Nominatim(user_agent=\"dnipro\",timeout=10)\n",
    "college_location = geolocator.geocode(\"26 Duffie Dr, Fredericton, NB , Canada\")\n",
    "print(\"The college address is:\", college_location)\n"
   ]
  },
  {
   "cell_type": "code",
   "execution_count": 4,
   "metadata": {
    "scrolled": true
   },
   "outputs": [
    {
     "data": {
      "text/plain": [
       "<folium.vector_layers.Circle at 0x7f4750fb97d0>"
      ]
     },
     "execution_count": 4,
     "metadata": {},
     "output_type": "execute_result"
    }
   ],
   "source": [
    "# create map of Welland using latitude and longitude values\n",
    "map_Fred = folium.Map(location=[college_location[-1][0], college_location[-1][1]], zoom_start=12)\n",
    "folium.Marker([college_location[-1][0], college_location[-1][1]],popup=html.escape(\"NBCC\"), icon=folium.Icon(color='red',icon='info-sign')).add_to(map_Fred)\n",
    "folium.Circle(\n",
    "    location=[college_location[-1][0], college_location[-1][1]],\n",
    "    radius=10000,\n",
    "    popup='College 10km radius',\n",
    "    color='#3186cc',\n",
    "    fill=True,\n",
    "    fill_color='#3186cc'\n",
    ").add_to(map_Fred)\n"
   ]
  },
  {
   "cell_type": "code",
   "execution_count": 5,
   "metadata": {
    "scrolled": false
   },
   "outputs": [
    {
     "data": {
      "text/html": [
       "<div style=\"width:100%;\"><div style=\"position:relative;width:100%;height:0;padding-bottom:60%;\"><span style=\"color:#565656\">Make this Notebook Trusted to load map: File -> Trust Notebook</span><iframe src=\"about:blank\" style=\"position:absolute;width:100%;height:100%;left:0;top:0;border:none !important;\" data-html=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 onload=\"this.contentDocument.open();this.contentDocument.write(atob(this.getAttribute('data-html')));this.contentDocument.close();\" allowfullscreen webkitallowfullscreen mozallowfullscreen></iframe></div></div>"
      ],
      "text/plain": [
       "<folium.folium.Map at 0x7f477bfa87d0>"
      ]
     },
     "execution_count": 5,
     "metadata": {},
     "output_type": "execute_result"
    }
   ],
   "source": [
    "map_Fred"
   ]
  },
  {
   "cell_type": "markdown",
   "metadata": {},
   "source": [
    "<p>With this informations taken into consideration, we can start our project.</p>"
   ]
  },
  {
   "cell_type": "code",
   "execution_count": null,
   "metadata": {},
   "outputs": [],
   "source": []
  }
 ],
 "metadata": {
  "kernelspec": {
   "display_name": "Python 3",
   "language": "python",
   "name": "python3"
  },
  "language_info": {
   "codemirror_mode": {
    "name": "ipython",
    "version": 3
   },
   "file_extension": ".py",
   "mimetype": "text/x-python",
   "name": "python",
   "nbconvert_exporter": "python",
   "pygments_lexer": "ipython3",
   "version": "3.7.6"
  }
 },
 "nbformat": 4,
 "nbformat_minor": 4
}
