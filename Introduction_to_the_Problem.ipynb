{
 "cells": [
  {
   "cell_type": "markdown",
   "metadata": {},
   "source": [
    "<h1>Peer-graded Assignment: Capstone Project - The Battle of Neighborhoods (Week 1)</h1> \n",
    "<h2>Problem Description:</h2>\n",
    "<p>International students will be moving to study at the NBCC, Fredericton, New Brunswick - CA.\n",
    "they are searching for one bedroom Apartments in regions that have some specific amenities and points of importance as shown below: \n",
    "    <ol>\n",
    "        <li>Grocery stores;</li>\n",
    "        <li>Supermarkets;</li>\n",
    "        <li>Gyms;</li>\n",
    "        <li>Drugstores;</li>\n",
    "        <li>Hospitals;</li>\n",
    "        <li>Candy Stores;</li>\n",
    "    </ol>\n",
    "</p>\n",
    "<p>The objective is to identify the best regions within a radius of 10km of the college location that satisfy the requirements.</p>\n",
    "\n",
    "<p>A web scraper will be created specifically for this project, by retrieving the apartment location information (Address) from the website Kijiji.ca, using the following information for the search:</p>\n",
    "   \n",
    "   <ul>\n",
    "    <li>Long term rental;</li>\n",
    "    <li>1 bedroom apartments or studio apartments;</li>\n",
    "    <li>1 bathroom;</li>\n",
    "    <li>Welland, Ontario - 50km;</li>\n",
    "    <li> $0 - $1200 CAD; </li>\n",
    "    <li> Bedrooms: 1 or Bachelor/Studio;</li>\n",
    "    <li>Batrooms: Any;</li>\n",
    "    <li>Price:lowest first</li>\n",
    "   </ul>\n",
    "\n",
    "<h2> After scraping the apartments location information, we will use the Foursquare API to discover business from the list within 500 meters from the apartments. </h2>\n"
   ]
  },
  {
   "cell_type": "markdown",
   "metadata": {},
   "source": [
    "<h2>Map of NBCC College region:</h2>\n",
    "<p>for information, here's the Map of the city of Fredericton, in New Brunswick, with a 10km radius to better give perspective of the area.</p>"
   ]
  },
  {
   "cell_type": "code",
   "execution_count": 33,
   "metadata": {},
   "outputs": [],
   "source": [
    "import folium\n",
    "from geopy.geocoders import Nominatim\n",
    "from IPython.display import HTML\n",
    "import html"
   ]
  },
  {
   "cell_type": "code",
   "execution_count": 34,
   "metadata": {},
   "outputs": [
    {
     "data": {
      "text/html": [
       "<script>\n",
       "code_show=true; \n",
       "function code_toggle() {\n",
       " if (code_show){\n",
       " $('div.input').hide();\n",
       " } else {\n",
       " $('div.input').show();\n",
       " }\n",
       " code_show = !code_show\n",
       "} \n",
       "$( document ).ready(code_toggle);\n",
       "</script>The raw code for this IPython notebook is by default hidden for easier reading.\n",
       "To toggle on/off the raw code, click <a href=\"javascript:code_toggle()\">here</a>."
      ],
      "text/plain": [
       "<IPython.core.display.HTML object>"
      ]
     },
     "execution_count": 34,
     "metadata": {},
     "output_type": "execute_result"
    }
   ],
   "source": [
    "HTML('''<script>\n",
    "code_show=true; \n",
    "function code_toggle() {\n",
    " if (code_show){\n",
    " $('div.input').hide();\n",
    " } else {\n",
    " $('div.input').show();\n",
    " }\n",
    " code_show = !code_show\n",
    "} \n",
    "$( document ).ready(code_toggle);\n",
    "</script>The raw code for this IPython notebook is by default hidden for easier reading.\n",
    "To toggle on/off the raw code, click <a href=\"javascript:code_toggle()\">here</a>.''')\n"
   ]
  },
  {
   "cell_type": "code",
   "execution_count": 35,
   "metadata": {},
   "outputs": [
    {
     "name": "stdout",
     "output_type": "stream",
     "text": [
      "The college address is: Duffie Drive, College Hill, Skyline Acres, Fredericton, York County, New Brunswick, E3B 9W4, Canada\n"
     ]
    }
   ],
   "source": [
    "geolocator = Nominatim(user_agent=\"dnipro\",timeout=10)\n",
    "college_location = geolocator.geocode(\"26 Duffie Dr, Fredericton, NB , Canada\")\n",
    "print(\"The college address is:\", college_location)\n"
   ]
  },
  {
   "cell_type": "code",
   "execution_count": 36,
   "metadata": {
    "scrolled": true
   },
   "outputs": [
    {
     "data": {
      "text/plain": [
       "<folium.vector_layers.Circle at 0x7f3ee0e2a050>"
      ]
     },
     "execution_count": 36,
     "metadata": {},
     "output_type": "execute_result"
    }
   ],
   "source": [
    "# create map of Welland using latitude and longitude values\n",
    "map_Fred = folium.Map(location=[college_location[-1][0], college_location[-1][1]], zoom_start=12)\n",
    "folium.Marker([college_location[-1][0], college_location[-1][1]],popup=html.escape(\"NBCC\")).add_to(map_Fred)\n",
    "folium.Circle(\n",
    "    location=[college_location[-1][0], college_location[-1][1]],\n",
    "    radius=10000,\n",
    "    popup='College 10km radius',\n",
    "    color='#3186cc',\n",
    "    fill=True,\n",
    "    fill_color='#3186cc'\n",
    ").add_to(map_Fred)\n"
   ]
  },
  {
   "cell_type": "code",
   "execution_count": 32,
   "metadata": {},
   "outputs": [
    {
     "data": {
      "text/html": [
       "<div style=\"width:100%;\"><div style=\"position:relative;width:100%;height:0;padding-bottom:60%;\"><span style=\"color:#565656\">Make this Notebook Trusted to load map: File -> Trust Notebook</span><iframe src=\"about:blank\" style=\"position:absolute;width:100%;height:100%;left:0;top:0;border:none !important;\" data-html=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 onload=\"this.contentDocument.open();this.contentDocument.write(atob(this.getAttribute('data-html')));this.contentDocument.close();\" allowfullscreen webkitallowfullscreen mozallowfullscreen></iframe></div></div>"
      ],
      "text/plain": [
       "<folium.folium.Map at 0x7f3f08759950>"
      ]
     },
     "execution_count": 32,
     "metadata": {},
     "output_type": "execute_result"
    }
   ],
   "source": [
    "map_Fred"
   ]
  },
  {
   "cell_type": "code",
   "execution_count": null,
   "metadata": {},
   "outputs": [],
   "source": []
  }
 ],
 "metadata": {
  "kernelspec": {
   "display_name": "Python 3",
   "language": "python",
   "name": "python3"
  },
  "language_info": {
   "codemirror_mode": {
    "name": "ipython",
    "version": 3
   },
   "file_extension": ".py",
   "mimetype": "text/x-python",
   "name": "python",
   "nbconvert_exporter": "python",
   "pygments_lexer": "ipython3",
   "version": "3.7.6"
  }
 },
 "nbformat": 4,
 "nbformat_minor": 4
}
