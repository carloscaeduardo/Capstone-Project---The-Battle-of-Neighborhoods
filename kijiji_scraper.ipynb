{
 "cells": [
  {
   "cell_type": "code",
   "execution_count": 1,
   "metadata": {},
   "outputs": [],
   "source": [
    "import time\n",
    "import requests\n",
    "import urllib.request\n",
    "from selenium import webdriver\n",
    "from selenium.webdriver.common.keys import Keys\n",
    "from selenium.webdriver.chrome.options import Options\n",
    "from webdriver_manager.chrome import ChromeDriverManager\n",
    "\n"
   ]
  },
  {
   "cell_type": "code",
   "execution_count": 2,
   "metadata": {
    "scrolled": true
   },
   "outputs": [
    {
     "name": "stderr",
     "output_type": "stream",
     "text": [
      "[WDM] - Current google-chrome version is 85.0.4183\n",
      "[WDM] - Get LATEST driver version for 85.0.4183\n",
      "[WDM] - Get LATEST driver version for 85.0.4183\n"
     ]
    },
    {
     "name": "stdout",
     "output_type": "stream",
     "text": [
      " \n"
     ]
    },
    {
     "name": "stderr",
     "output_type": "stream",
     "text": [
      "[WDM] - Trying to download new driver from http://chromedriver.storage.googleapis.com/85.0.4183.87/chromedriver_linux64.zip\n",
      "[WDM] - Driver has been saved in cache [/home/kurosuzume/.wdm/drivers/chromedriver/linux64/85.0.4183.87]\n"
     ]
    },
    {
     "name": "stdout",
     "output_type": "stream",
     "text": [
      "There are no more apartments with those filters right now. \n",
      "chrome closed\n"
     ]
    }
   ],
   "source": [
    "browser = webdriver.Chrome(ChromeDriverManager().install())\n",
    "chrome_options = webdriver.ChromeOptions()\n",
    "prefs = {\"profile.default_content_setting_values.notifications\" : 2}\n",
    "chrome_options.add_experimental_option(\"prefs\", prefs)\n",
    "\n",
    "browser.maximize_window()\n",
    "\n",
    "#Get the kijiji url for London region, with one bedroom apartment option set.\n",
    "kijiji_url = \"https://www.kijiji.ca/b-apartments-condos/fredericton/1+bedroom__1+bedroom+den__2+bedrooms__bachelor+studio-apartment__basement+apartment/c37l1700018a27949001a29276001?ll=45.963590%2C-66.643115&address=Fredericton%2C+NB&ad=offering&price=__2000&sort=priceAsc&radius=50.0\"\n",
    "browser.get(kijiji_url)\n",
    "\n",
    "ap_prices = []\n",
    "AD_title = []\n",
    "urls = []\n",
    "apartment_titles = browser.find_elements_by_css_selector(\"a.title  \")\n",
    "apartment_prices = browser.find_elements_by_css_selector(\" div.price\")\n",
    "\n",
    "for apartment_url in apartment_titles:\n",
    "    urls.append(apartment_url.get_attribute(\"href\"))\n",
    "\n",
    "for price in range(len(apartment_prices)):\n",
    "    ap_prices.append(apartment_prices[price].text)    \n",
    "\n",
    "for i in range(len(apartment_titles)):\n",
    "\n",
    "    AD_title.append(apartment_titles[i].text)\n",
    "   \n",
    "\n",
    "\n",
    "text_address = []\n",
    "apartment_addresses = []\n",
    "num_bedrooms = []\n",
    "num_bathrooms = []\n",
    "for i in urls:\n",
    "    url_index = urls.index(i)\n",
    "    browser.get(urls[url_index])\n",
    "    address = browser.find_element_by_css_selector(\".address-3617944557\")\n",
    "    bedrooms = browser.find_element_by_css_selector(\"li:nth-child(2) > span\")\n",
    "    bathrooms =  browser.find_element_by_css_selector(\"li:nth-child(3) > span\")\n",
    "    #print(address)\n",
    "    time.sleep(3)\n",
    "    address_text = browser.find_element_by_css_selector(\".address-3617944557\").get_attribute(\"innerText\")\n",
    "    bedrooms_num = bedrooms.text\n",
    "    bathrooms_num = bathrooms.text\n",
    "    #print(\"the address is:\", address_text)\n",
    "    apartment_addresses.append(address)\n",
    "    num_bedrooms.append(bedrooms_num)\n",
    "    num_bathrooms.append(bathrooms_num)\n",
    "    text_address.append(address_text)    \n",
    "    time.sleep(5)\n",
    "print(\"There are no more apartments with those filters right now. \")\n",
    "browser.close()\n",
    "print(\"chrome closed\")\n"
   ]
  },
  {
   "cell_type": "code",
   "execution_count": 1,
   "metadata": {},
   "outputs": [
    {
     "ename": "NameError",
     "evalue": "name 'AD_title' is not defined",
     "output_type": "error",
     "traceback": [
      "\u001b[0;31m---------------------------------------------------------------------------\u001b[0m",
      "\u001b[0;31mNameError\u001b[0m                                 Traceback (most recent call last)",
      "\u001b[0;32m<ipython-input-1-8df0280757b0>\u001b[0m in \u001b[0;36m<module>\u001b[0;34m\u001b[0m\n\u001b[0;32m----> 1\u001b[0;31m \u001b[0mlen\u001b[0m\u001b[0;34m(\u001b[0m\u001b[0mAD_title\u001b[0m\u001b[0;34m)\u001b[0m\u001b[0;34m\u001b[0m\u001b[0;34m\u001b[0m\u001b[0m\n\u001b[0m\u001b[1;32m      2\u001b[0m \u001b[0;31m#text_address\u001b[0m\u001b[0;34m\u001b[0m\u001b[0;34m\u001b[0m\u001b[0;34m\u001b[0m\u001b[0m\n",
      "\u001b[0;31mNameError\u001b[0m: name 'AD_title' is not defined"
     ]
    }
   ],
   "source": [
    "len(AD_title)\n",
    "#text_address"
   ]
  },
  {
   "cell_type": "code",
   "execution_count": 14,
   "metadata": {},
   "outputs": [
    {
     "data": {
      "text/plain": [
       "['Southside Apartment with Underground Parking 1650/month',\n",
       " 'JUNE 2021 PRE LEASE NOW SOUTHSIDE APARTMENT UNDERGROUND PARKING',\n",
       " 'Looking for a roomate',\n",
       " 'Apt for rent in Skyline call 5064555920',\n",
       " 'Appartment for rent near UNB call 5064555920',\n",
       " 'apartment',\n",
       " 'Quaint bachelor apartment downtown',\n",
       " 'Bottom suite of Duplex available October 1st',\n",
       " 'Apartment in great location',\n",
       " 'Bachelor Apartment Downtown Fredericton',\n",
       " '2 Bedroom',\n",
       " 'Great apartment available now',\n",
       " 'Downtown Bachelor Apt. AVAILABLE IMMEDIATELY']"
      ]
     },
     "execution_count": 14,
     "metadata": {},
     "output_type": "execute_result"
    }
   ],
   "source": [
    "AD_title"
   ]
  },
  {
   "cell_type": "code",
   "execution_count": null,
   "metadata": {},
   "outputs": [],
   "source": []
  }
 ],
 "metadata": {
  "kernelspec": {
   "display_name": "Python 3",
   "language": "python",
   "name": "python3"
  },
  "language_info": {
   "codemirror_mode": {
    "name": "ipython",
    "version": 3
   },
   "file_extension": ".py",
   "mimetype": "text/x-python",
   "name": "python",
   "nbconvert_exporter": "python",
   "pygments_lexer": "ipython3",
   "version": "3.7.6"
  }
 },
 "nbformat": 4,
 "nbformat_minor": 4
}
